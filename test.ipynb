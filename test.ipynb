{
 "cells": [
  {
   "cell_type": "code",
   "execution_count": 2,
   "metadata": {},
   "outputs": [],
   "source": [
    "# TODO: IMPORT LIBRARIES\n",
    "from datetime import datetime\n",
    "from threading import Timer\n",
    "import time\n",
    "\n",
    "from python.get_quotes import getMotivationalQuote, updateQuotesLogFile\n",
    "# from python.photo_edit import \n",
    "from python.unsplash import saveAllPhotosIds,getUnsplashPhoto,downloadPhoto\n"
   ]
  },
  {
   "cell_type": "code",
   "execution_count": null,
   "metadata": {},
   "outputs": [],
   "source": [
    "## DIRECTORIES\n",
    "python_file_path = __file__\n",
    "python_file_path = python_file_path.split(\"\\\\\")\n",
    "\n",
    "main_directory = '\\\\'.join(python_file_path[:-1]) + '\\\\'\n",
    "\n",
    "assets_path = main_directory + \"assets\\\\\"\n",
    "fonts_path = assets_path + \"fonts\\\\\"\n",
    "images_path  = assets_path + \"images\\\\\"\n",
    "\n",
    "log_path = main_directory + \"log\\\\\"\n",
    "program_files_path = main_directory + \"python\\\\\"\n",
    "\n",
    "results_path = main_directory + \"results\\\\\""
   ]
  }
 ],
 "metadata": {
  "kernelspec": {
   "display_name": "Python 3.8.5 ('base')",
   "language": "python",
   "name": "python3"
  },
  "language_info": {
   "codemirror_mode": {
    "name": "ipython",
    "version": 3
   },
   "file_extension": ".py",
   "mimetype": "text/x-python",
   "name": "python",
   "nbconvert_exporter": "python",
   "pygments_lexer": "ipython3",
   "version": "3.8.5"
  },
  "orig_nbformat": 4,
  "vscode": {
   "interpreter": {
    "hash": "e42634819b8c191a5d07eaf23810ff32516dd8d3875f28ec3e488928fbd3c187"
   }
  }
 },
 "nbformat": 4,
 "nbformat_minor": 2
}
