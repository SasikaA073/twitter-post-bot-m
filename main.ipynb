{
 "cells": [
  {
   "cell_type": "code",
   "execution_count": 19,
   "metadata": {},
   "outputs": [
    {
     "name": "stdout",
     "output_type": "stream",
     "text": [
      "sasikapamith2016@gmail.com\n",
      "******\n"
     ]
    }
   ],
   "source": [
    "# Read the keys from the credentials files\n",
    "\n",
    "with open('credentials/api_keys.txt') as f:\n",
    "    keys = f.readlines()\n",
    "    keys = [x.strip() for x in keys]\n",
    "    \n",
    "    unsplash_access_key = keys[0].split()[-1]\n",
    "    unsplash_secret_key = keys[1].split()[-1]\n",
    "    zenquotes_access_key = keys[2].split()[-1]\n",
    "\n",
    "with open('credentials/twitter_credentials.txt') as f:\n",
    "    keys = f.readlines()\n",
    "    keys = [x.strip() for x in keys]\n",
    "    # print(keys)\n",
    "    \n",
    "    twitter_email = keys[0].split()[-1]\n",
    "    twitter_password = keys[1].split()[-1]\n",
    "\n",
    "    "
   ]
  },
  {
   "cell_type": "code",
   "execution_count": 130,
   "metadata": {},
   "outputs": [],
   "source": [
    "import requests,os,json,pprint,pickle\n",
    "\n",
    "BASE_URL = \"https://api.unsplash.com\"\n",
    "\n",
    "order_by = [\"oldest\",\"latest\",\"popular\"]\n",
    "results_per_page = 5\n",
    "# no_pages = 100\n",
    "n = 0\n",
    "\n",
    "unsplash_photos_ids_file = f\"unsplash_photos_ids{n}.txt\"\n",
    "\n"
   ]
  },
  {
   "cell_type": "code",
   "execution_count": 131,
   "metadata": {},
   "outputs": [],
   "source": [
    "def saveAllPhotosIds(text_file:str,no_pages:int) -> None:\n",
    "    \"\"\"\n",
    "    Input : \n",
    "        text_file : save 1000 photos ids at a time\n",
    "        \n",
    "    Returns:\n",
    "        none\n",
    "        \n",
    "    \"\"\"\n",
    "    with open(text_file,'w',newline=\"\\n\") as file:\n",
    "        for i in range(1,no_pages+1):\n",
    "\n",
    "            photos_list_url = BASE_URL \n",
    "            photos_list_url += f\"/photos/?client_id={unsplash_access_key}&\"\n",
    "            photos_list_url += f\"page={i}&\"\n",
    "            photos_list_url += f\"per_page={results_per_page}&\"\n",
    "            photos_list_url += f\"order_by={order_by[2]}\"\n",
    "\n",
    "            r = requests.get(photos_list_url)\n",
    "            \n",
    "            if r.status_code == 200:\n",
    "                rJson = json.loads(r.text)\n",
    "                # pprint.pprint(rJson)\n",
    "                for i in range(len(rJson)):\n",
    "                    photo_id = rJson[i]['id']\n",
    "                    print(i,photo_id)\n",
    "                    file.writelines(f\"{photo_id}\\n\")\n",
    "            else:\n",
    "                print(r.status_code)\n",
    "                pass\n",
    "    return None\n"
   ]
  },
  {
   "cell_type": "code",
   "execution_count": 132,
   "metadata": {},
   "outputs": [],
   "source": [
    "# saveAllPhotosIds(unsplash_photos_ids_file,200)"
   ]
  },
  {
   "cell_type": "code",
   "execution_count": 133,
   "metadata": {},
   "outputs": [],
   "source": [
    "types = [\"raw\",\"full\",\"regular\",\"small\",\"thumb\"]"
   ]
  },
  {
   "cell_type": "code",
   "execution_count": 134,
   "metadata": {},
   "outputs": [],
   "source": [
    "def getUnsplashPhoto(id:str,type:str)->str:\n",
    "    \"\"\"\n",
    "    input: \n",
    "        id: unsplash photo id\n",
    "    Process:\n",
    "        downloads the relevant photo\n",
    "    Returns: \n",
    "        tuple \n",
    "            id : as the name of the photo\n",
    "            url : the url of the photo\n",
    "    \"\"\"\n",
    "\n",
    "    photo_details = BASE_URL \n",
    "    photo_details += f\"/photos/{id}?client_id={unsplash_access_key}&\"\n",
    "\n",
    "    r = requests.get(photo_details)\n",
    "\n",
    "    if r.status_code == 200:\n",
    "        rJson = json.loads(r.text)\n",
    "        # pprint.pprint(rJson)\n",
    "        \n",
    "        return (\n",
    "            id, #name\n",
    "            rJson['urls'][type], # photo_url\n",
    "            rJson['color'], # color\n",
    "            rJson['alt_description'],\n",
    "            rJson['location']['country']\n",
    "            \n",
    "\n",
    "        )\n",
    "    else:\n",
    "        print(r.status_code)\n",
    "        print(\"Error when getting the Unsplash photo by id\")\n",
    "        return None"
   ]
  },
  {
   "cell_type": "code",
   "execution_count": 135,
   "metadata": {},
   "outputs": [],
   "source": [
    "r = getUnsplashPhoto(\"78A265wPiO4\",types[1])"
   ]
  },
  {
   "cell_type": "code",
   "execution_count": 136,
   "metadata": {},
   "outputs": [
    {
     "data": {
      "text/plain": [
       "('78A265wPiO4',\n",
       " 'https://images.unsplash.com/photo-1469474968028-56623f02e42e?crop=entropy&cs=tinysrgb&fm=jpg&ixid=MnwzMjI4NDd8MHwxfGFsbHx8fHx8fHx8fDE2NTU5NzE2ODc&ixlib=rb-1.2.1&q=80',\n",
       " '#8c8c73',\n",
       " 'landscape photography of mountain hit by sun rays',\n",
       " 'Romania')"
      ]
     },
     "execution_count": 136,
     "metadata": {},
     "output_type": "execute_result"
    }
   ],
   "source": [
    "r"
   ]
  },
  {
   "cell_type": "code",
   "execution_count": 137,
   "metadata": {},
   "outputs": [],
   "source": [
    "def downloadPhoto(input:getUnsplashPhoto)->None:\n",
    "\n",
    "    \"\"\"\n",
    "    Save the image file to the assets folder\n",
    "    \"\"\"\n",
    "    \n",
    "    name = input[0]\n",
    "    url = input[1]\n",
    "    color = input[2]\n",
    "    description = input[3]\n",
    "    country = input[4]\n",
    "\n",
    "    try:\n",
    "        r = requests.get(url)\n",
    "        file = open(f\"assets/images/image_{name}.jpg\",\"wb\")\n",
    "        file.write(r.content)\n",
    "        file.close()\n",
    "\n",
    "        return 200\n",
    "    except:\n",
    "        return -1\n",
    "    "
   ]
  },
  {
   "cell_type": "code",
   "execution_count": 138,
   "metadata": {},
   "outputs": [
    {
     "data": {
      "text/plain": [
       "-1"
      ]
     },
     "execution_count": 138,
     "metadata": {},
     "output_type": "execute_result"
    }
   ],
   "source": [
    "downloadPhoto(r)"
   ]
  },
  {
   "cell_type": "code",
   "execution_count": 139,
   "metadata": {},
   "outputs": [],
   "source": [
    "# import libraries\n",
    "import requests,pprint,json,time,os\n",
    "from PIL import Image\n",
    "from PIL import ImageFont\n",
    "from PIL import ImageDraw\n",
    "from PIL import ImageFilter"
   ]
  },
  {
   "cell_type": "code",
   "execution_count": 140,
   "metadata": {},
   "outputs": [],
   "source": [
    "# Get the motivational quotes\n",
    "def getMotivationalQuote():\n",
    "    global zen_quote_key \n",
    "    modes = ['random','today','quotes']\n",
    "    mode = modes[0]\n",
    "    urlZen = f\"https://zenquotes.io/api/{mode}/{key}\"\n",
    "\n",
    "    responseZen = requests.get(urlZen)\n",
    "\n",
    "    # .content -> in Bytes , u have to decode this\n",
    "    responseContent  = responseZen.content\n",
    "    responseText = responseContent.decode('utf-8')\n",
    "\n",
    "    # .text -> in Str, after decoding\n",
    "    responseText2 = responseZen.text\n",
    "\n",
    "    responseJson = json.loads(responseText)\n",
    "    responseJson = responseJson[0]\n",
    "    # print((responseText2))\n",
    "    # pprint.pprint(responseJson)\n",
    "    # pprint.pprint(responseZen.content)\n",
    "    # content\n",
    "\n",
    "    quote = responseJson['q']\n",
    "    author = responseJson['a']\n",
    "\n",
    "    return (quote,author)\n"
   ]
  },
  {
   "cell_type": "code",
   "execution_count": 141,
   "metadata": {},
   "outputs": [],
   "source": [
    "quotes_tuple = (myQuote,myAuthor) = getMotivationalQuote()"
   ]
  },
  {
   "cell_type": "code",
   "execution_count": 142,
   "metadata": {},
   "outputs": [],
   "source": [
    "def updateQuotesLogFile(x:tuple)-> None:\n",
    "    \"\"\" \n",
    "    Update the quotes file\n",
    "    \"\"\"\n",
    "    file = open('assets/all_quotes.text','r')\n",
    "    lines = file.readlines()\n",
    "    line_no = int(lines[-1].split(\":\")[0])\n",
    "    file.close()\n",
    "\n",
    "    file = open('assets/all_quotes.text','a')\n",
    "    file.write(f\"{line_no + 1} : {x[0]} : {x[1]}\\n\")\n",
    "    file.close()\n"
   ]
  },
  {
   "cell_type": "code",
   "execution_count": 143,
   "metadata": {},
   "outputs": [],
   "source": [
    "updateQuotesLogFile(quotes_tuple)"
   ]
  },
  {
   "cell_type": "code",
   "execution_count": 150,
   "metadata": {},
   "outputs": [],
   "source": [
    "# EDIT THE IMAGE\n",
    "\n",
    "def editImage(imgName,_imgSaveName,my_quote,my_author,fontName,font_size):\n",
    "\n",
    "    # importing the image\n",
    "    imgBlahh = Image.open(imgName)\n",
    "    # imgBlahh.show()\n",
    "    new_filter = ImageFilter.BoxBlur(3)\n",
    "    imgBlahh.filter(new_filter).save('test.jpg')\n",
    "    img = Image.open('test.jpg')\n",
    "    # img.show()\n",
    "    # print(\"Enter the color for font(RGB format) >>> \")\n",
    "    # x,y,z = input().split()\n",
    "    # x = int(x)\n",
    "    # y = int(y)\n",
    "    # z = int(z)\n",
    "    \n",
    "    # font_color = (x,y,z)\n",
    "    # # print(\"Enter the author color for font(RGB format) >>> \")\n",
    "    # x,y,z = input().split()\n",
    "    # x = int(x)\n",
    "    # y = int(y)\n",
    "    # z = int(z)\n",
    "    # author_font_color = (x,y,z)\n",
    "\n",
    "    font_color = (255,255,255)\n",
    "    author_font_color = (255,255,255)\n",
    "    \n",
    "    draw = ImageDraw.Draw(img)\n",
    "    imgSize = (imgWidth,imgHeight) = img.size\n",
    "    # print(imgSize)\n",
    "\n",
    "    # loading the font and providing the size\n",
    "\n",
    "    _font = ImageFont.truetype(fontName, font_size)\n",
    "\n",
    "    textArray = my_quote.split()\n",
    "    midPointTextArray =int(len(textArray)/2)\n",
    "    text1 = textArray[:midPointTextArray]\n",
    "    text2 = textArray[midPointTextArray:]\n",
    "\n",
    "    _text1 = \"\"\n",
    "\n",
    "    for i in text1:\n",
    "        _text1 += i + \" \"\n",
    "\n",
    "    _text2 = \"\"\n",
    "\n",
    "    for i in text2:\n",
    "        _text2 += i + \" \"\n",
    "\n",
    "    (text1Width,text1Height) = draw.textsize(_text1,font=_font)\n",
    "    leftPadding1 = int((imgWidth - text1Width)/2)\n",
    "    topPadding1 = int(imgHeight/2)\n",
    "\n",
    "    (text2Width,text2Height) = draw.textsize(_text2,font=_font)\n",
    "    leftPadding2 = int((imgWidth - text2Width)/2)\n",
    "    topPadding2 = topPadding1 + int(text1Height*3/2)\n",
    "\n",
    "    _author = \"~\"+ my_author + \"~\"\n",
    "    _fontAuthor = ImageFont.truetype(fontName, int(font_size*2/3))\n",
    "    (authorWidth,authorHeight) = draw.textsize(_author,font=_fontAuthor)\n",
    "\n",
    "    leftPaddingAuthor = int((imgWidth - authorWidth)/2)\n",
    "    topPaddingAuthor = topPadding2 + int(text2Height*3/2)\n",
    "\n",
    "    draw.text((leftPadding1,topPadding1),_text1,font_color,font = _font,align='center')\n",
    "    draw.text((leftPadding2,topPadding2),_text2,font_color,font=_font,align='center')\n",
    "    draw.text((leftPaddingAuthor,topPaddingAuthor),_author,author_font_color,_fontAuthor,align='center')\n",
    "\n",
    "    # saving the image\n",
    "    img.save(_imgSaveName)\n",
    "\n"
   ]
  },
  {
   "cell_type": "code",
   "execution_count": 145,
   "metadata": {},
   "outputs": [],
   "source": [
    "folder_path = \"d:\\\\Sasika\\\\Documents\\\\Programming\\\\My Projects\\\\Motivation Bots\\\\\"  # have to change this according to the os version"
   ]
  },
  {
   "cell_type": "code",
   "execution_count": 156,
   "metadata": {},
   "outputs": [],
   "source": [
    "fontName = folder_path + \"assets\\\\fonts\\\\TrajanPro-Bold.otf\"\n",
    "font_size = 110"
   ]
  },
  {
   "cell_type": "code",
   "execution_count": 147,
   "metadata": {},
   "outputs": [],
   "source": [
    "image_path = folder_path + \"assets\\\\image_78A265wPiO4.jpg\""
   ]
  },
  {
   "cell_type": "code",
   "execution_count": 1,
   "metadata": {},
   "outputs": [
    {
     "ename": "NameError",
     "evalue": "name 'editImage' is not defined",
     "output_type": "error",
     "traceback": [
      "\u001b[1;31m---------------------------------------------------------------------------\u001b[0m",
      "\u001b[1;31mNameError\u001b[0m                                 Traceback (most recent call last)",
      "\u001b[1;32md:\\Sasika\\Documents\\Programming\\My Projects\\Motivation Bots\\main.ipynb Cell 19'\u001b[0m in \u001b[0;36m<cell line: 1>\u001b[1;34m()\u001b[0m\n\u001b[1;32m----> <a href='vscode-notebook-cell:/d%3A/Sasika/Documents/Programming/My%20Projects/Motivation%20Bots/main.ipynb#ch0000018?line=0'>1</a>\u001b[0m editImage(image_path,\u001b[39mf\u001b[39m\u001b[39m'\u001b[39m\u001b[39mresults/sample.jpg\u001b[39m\u001b[39m'\u001b[39m,myQuote,myAuthor,fontName,\u001b[39m20\u001b[39m)\n",
      "\u001b[1;31mNameError\u001b[0m: name 'editImage' is not defined"
     ]
    }
   ],
   "source": [
    "editImage(image_path,f'results/sample.jpg',myQuote,myAuthor,fontName,20)"
   ]
  },
  {
   "cell_type": "code",
   "execution_count": null,
   "metadata": {},
   "outputs": [],
   "source": [
    "# TODO: IMPORT LIBRARIES\n",
    "from datetime import datetime\n",
    "from threading import Timer\n",
    "import time\n",
    "\n",
    "\n",
    "from python.get_quotes import getMotivationalQuote, updateQuotesLogFile\n",
    "# from python.photo_edit import \n",
    "from python.unsplash import saveAllPhotosIds,getUnsplashPhoto,downloadPhoto\n",
    "\n",
    "## DIRECTORIES\n",
    "python_file_path = __file__\n",
    "python_file_path = python_file_path.split(\"\\\\\")\n",
    "\n",
    "main_directory = '\\\\'.join(python_file_path[:-1]) + '\\\\'\n",
    "\n",
    "assets_path = main_directory + \"assets\\\\\"\n",
    "fonts_path = assets_path + \"fonts\\\\\"\n",
    "images_path  = assets_path + \"images\\\\\"\n",
    "\n",
    "log_path = main_directory + \"log\\\\\"\n",
    "program_files_path = main_directory + \"python\\\\\"\n",
    "\n",
    "results_path = main_directory + \"results\\\\\"\n",
    "\n",
    "\n",
    "\n",
    " \n",
    "delay = 60*60*6  # 6 hours\n",
    "\n",
    "# TODO: Post 4 photos per day\n",
    "while True:\n",
    "    # TODO: Get a quote\n",
    "    quote_author = (quote,author) = getMotivationalQuote()\n",
    "    updateQuotesLogFile(quote_author)\n",
    "\n",
    "    # TODO: Get a photo\n",
    "    \n",
    "    time.sleep(delay)\n"
   ]
  },
  {
   "cell_type": "code",
   "execution_count": null,
   "metadata": {},
   "outputs": [],
   "source": []
  }
 ],
 "metadata": {
  "kernelspec": {
   "display_name": "Python 3.8.5 ('base')",
   "language": "python",
   "name": "python3"
  },
  "language_info": {
   "codemirror_mode": {
    "name": "ipython",
    "version": 3
   },
   "file_extension": ".py",
   "mimetype": "text/x-python",
   "name": "python",
   "nbconvert_exporter": "python",
   "pygments_lexer": "ipython3",
   "version": "3.8.5"
  },
  "orig_nbformat": 4,
  "vscode": {
   "interpreter": {
    "hash": "e42634819b8c191a5d07eaf23810ff32516dd8d3875f28ec3e488928fbd3c187"
   }
  }
 },
 "nbformat": 4,
 "nbformat_minor": 2
}
